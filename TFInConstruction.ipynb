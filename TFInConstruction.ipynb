{
  "nbformat": 4,
  "nbformat_minor": 0,
  "metadata": {
    "colab": {
      "name": "TFInConstruction.ipynb",
      "provenance": [],
      "authorship_tag": "ABX9TyPe5TR8V+66upytHW9nCzBt",
      "include_colab_link": true
    },
    "kernelspec": {
      "name": "python3",
      "display_name": "Python 3"
    }
  },
  "cells": [
    {
      "cell_type": "markdown",
      "metadata": {
        "id": "view-in-github",
        "colab_type": "text"
      },
      "source": [
        "<a href=\"https://colab.research.google.com/github/Emillybaek/PhD/blob/master/TFInConstruction.ipynb\" target=\"_parent\"><img src=\"https://colab.research.google.com/assets/colab-badge.svg\" alt=\"Open In Colab\"/></a>"
      ]
    },
    {
      "cell_type": "markdown",
      "metadata": {
        "id": "Pd2BE04BMEeY",
        "colab_type": "text"
      },
      "source": [
        "## Neural Networks in Construction\n",
        "\n",
        "In this Colab file several options regarding Neural networks will be discovered. This will mainly deal with trajectory data and how Neural Networks can be used to assess latent variables in the datasets.\n",
        "\n",
        "# Part 1: Introduction to TensorFlow and notes\n",
        "## 0.1 Install TensorFlow\n",
        "As we are working in colab which is an only IDE we can very simply install Tensorflow, which will be the main library for our machine learning algorithms.\n",
        "We now go ahead and install TensorFlow and a couple of the dependencies for TensorFlow."
      ]
    },
    {
      "cell_type": "code",
      "metadata": {
        "id": "wJGk4-WMNK7O",
        "colab_type": "code",
        "colab": {}
      },
      "source": [
        "%tensorflow_version 2.x\n",
        "import tensorflow as tf\n",
        "import numpy as np\n",
        "import matplotlib.pyplot as plt"
      ],
      "execution_count": null,
      "outputs": []
    },
    {
      "cell_type": "markdown",
      "metadata": {
        "id": "PawZ52FaNmUl",
        "colab_type": "text"
      },
      "source": [
        "# Tensorflow\n",
        "Tensorflow gets its name from its main purpose - It handles flow of tensors. A tensor can be seen as an array with mulitple dimensions. \n",
        "\n",
        "When looking at a tensor the ```shape``` defines the dimensions and the size of those dimensions. The ```rank``` provides the number of dimensions (This is sometimes called the tensors order or degree)\n",
        "\n",
        "## 0.2 Examples\n"
      ]
    },
    {
      "cell_type": "code",
      "metadata": {
        "id": "_FYw_9rYMCSv",
        "colab_type": "code",
        "colab": {}
      },
      "source": [
        ""
      ],
      "execution_count": null,
      "outputs": []
    },
    {
      "cell_type": "markdown",
      "metadata": {
        "id": "gEfYV4eMMC-t",
        "colab_type": "text"
      },
      "source": [
        ""
      ]
    }
  ]
}